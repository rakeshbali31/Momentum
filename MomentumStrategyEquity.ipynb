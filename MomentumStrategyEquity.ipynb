{
 "cells": [
  {
   "cell_type": "markdown",
   "id": "afad2ac0",
   "metadata": {},
   "source": [
    "## Load Libraries"
   ]
  },
  {
   "metadata": {
    "ExecuteTime": {
     "end_time": "2024-06-07T20:52:07.341510Z",
     "start_time": "2024-06-07T20:52:06.492756Z"
    }
   },
   "cell_type": "code",
   "source": [
    "import yfinance as yf\n",
    "import pandas as pd\n",
    "import numpy as np\n",
    "from datetime import datetime\n",
    "import matplotlib.pyplot as plt"
   ],
   "id": "1f34aeae",
   "outputs": [],
   "execution_count": 1
  },
  {
   "cell_type": "markdown",
   "id": "763615eb",
   "metadata": {},
   "source": [
    "## Define Global Variables"
   ]
  },
  {
   "cell_type": "code",
   "id": "191fc508",
   "metadata": {
    "ExecuteTime": {
     "end_time": "2024-06-07T20:52:07.345510Z",
     "start_time": "2024-06-07T20:52:07.343201Z"
    }
   },
   "source": [
    "window = 12*21\n",
    "backtest_period = (12*21) * 2 - 1\n",
    "backtest_period_year = '2y'\n",
    "NUMBER_PER_LEG = 10"
   ],
   "outputs": [],
   "execution_count": 2
  },
  {
   "cell_type": "markdown",
   "id": "1f168c70",
   "metadata": {},
   "source": [
    "## Define the investment universe "
   ]
  },
  {
   "cell_type": "code",
   "id": "b2c55590",
   "metadata": {
    "ExecuteTime": {
     "end_time": "2024-06-07T20:52:07.579907Z",
     "start_time": "2024-06-07T20:52:07.346173Z"
    }
   },
   "source": [
    "# Fetch the list of S&P 500 companies from Wikipedia.\n",
    "sp500_tickers = pd.read_html('https://en.wikipedia.org/wiki/List_of_S%26P_500_companies')[0]\n",
    "tickers = sp500_tickers['Symbol'].tolist()"
   ],
   "outputs": [],
   "execution_count": 3
  },
  {
   "cell_type": "markdown",
   "id": "f524a874",
   "metadata": {},
   "source": [
    "## Signals Definition"
   ]
  },
  {
   "cell_type": "markdown",
   "id": "8af3a699",
   "metadata": {},
   "source": [
    "### 12m Momentum"
   ]
  },
  {
   "cell_type": "code",
   "id": "81174451",
   "metadata": {
    "ExecuteTime": {
     "end_time": "2024-06-07T20:52:07.583728Z",
     "start_time": "2024-06-07T20:52:07.580685Z"
    }
   },
   "source": [
    "def get_12m_momentum(assets, window=12*21):\n",
    "    frames = []\n",
    "    for asset in assets:\n",
    "        data = yf.download(asset, period=backtest_period_year, interval='1d', progress=False)['Adj Close']\n",
    "        if data.count() < backtest_period:\n",
    "            continue\n",
    "        shifted_data = data.shift(21)\n",
    "        mom_signal = np.log(shifted_data / shifted_data.shift(window))\n",
    "        frames.append(mom_signal.dropna().to_frame(asset))\n",
    "    return pd.concat(frames, axis=1)"
   ],
   "outputs": [],
   "execution_count": 4
  },
  {
   "cell_type": "markdown",
   "id": "0e284af9",
   "metadata": {},
   "source": [
    "### 12m Momentum HTP (by using P0)"
   ]
  },
  {
   "cell_type": "code",
   "id": "11a61a13",
   "metadata": {
    "ExecuteTime": {
     "end_time": "2024-06-07T20:52:07.588454Z",
     "start_time": "2024-06-07T20:52:07.585473Z"
    }
   },
   "source": [
    "def get_12m_htp_momentum_P0(assets, window=12*21):\n",
    "    frames = []\n",
    "    for asset in assets:\n",
    "        data = yf.download(asset, period=backtest_period_year, interval='1d', progress=False)['Adj Close']\n",
    "        if data.count() < backtest_period:\n",
    "            continue\n",
    "        shifted_data = data.shift(21)\n",
    "        p_max = shifted_data.rolling(window).max()\n",
    "        htp = np.log(p_max/shifted_data.shift(window))\n",
    "        frames.append(htp.dropna().to_frame(asset))\n",
    "    return pd.concat(frames, axis=1)"
   ],
   "outputs": [],
   "execution_count": 5
  },
  {
   "cell_type": "markdown",
   "id": "f5ab2f0b",
   "metadata": {},
   "source": [
    "### 6m Consistency"
   ]
  },
  {
   "cell_type": "code",
   "id": "8f830076",
   "metadata": {
    "ExecuteTime": {
     "end_time": "2024-06-07T20:52:07.592081Z",
     "start_time": "2024-06-07T20:52:07.589160Z"
    }
   },
   "source": [
    "# Consistency: Number of days with positive returns (historical 6m to 1m window)\n",
    "def get_6m_consistency(assets, window = 6*21):\n",
    "    frames = []\n",
    "    for asset in assets:\n",
    "        data = yf.download(asset, period=backtest_period_year, interval='1d', progress=False)['Adj Close']\n",
    "        if data.count() < backtest_period:\n",
    "            continue\n",
    "        shifted_data = data.shift(21)\n",
    "        rets = np.log(shifted_data/shifted_data.shift(1))\n",
    "        consistency = (rets.rolling(window=window,min_periods=window).agg(lambda x: (x > 0).sum()))\n",
    "        frames.append(consistency.dropna().to_frame(asset))\n",
    "    return pd.concat(frames, axis=1)"
   ],
   "outputs": [],
   "execution_count": 6
  },
  {
   "cell_type": "markdown",
   "id": "9eeb7530",
   "metadata": {},
   "source": [
    "### 6m Confirmation"
   ]
  },
  {
   "cell_type": "code",
   "id": "e6c177f4",
   "metadata": {
    "ExecuteTime": {
     "end_time": "2024-06-07T20:52:07.595847Z",
     "start_time": "2024-06-07T20:52:07.592981Z"
    }
   },
   "source": [
    "# Sum of daily returns (historical 6m to 1m window)\n",
    "def get_6m_confirmation(assets, window = 6*21):\n",
    "    frames = []\n",
    "    for asset in assets:\n",
    "        data = yf.download(asset, period=backtest_period_year, interval='1d', progress=False)['Adj Close']\n",
    "        if data.count() < backtest_period:\n",
    "            continue\n",
    "        shifted_data = data.shift(21)\n",
    "        rets = np.log(shifted_data/shifted_data.shift(1))\n",
    "        confirmation = rets.rolling(window=window).sum()\n",
    "        frames.append(confirmation.dropna().to_frame(asset))\n",
    "    return pd.concat(frames, axis=1)"
   ],
   "outputs": [],
   "execution_count": 7
  },
  {
   "cell_type": "markdown",
   "id": "119be9f1",
   "metadata": {},
   "source": [
    "### 6m Highest Price Factor"
   ]
  },
  {
   "cell_type": "code",
   "id": "7c046858",
   "metadata": {
    "ExecuteTime": {
     "end_time": "2024-06-07T20:52:07.600265Z",
     "start_time": "2024-06-07T20:52:07.596666Z"
    }
   },
   "source": [
    "# Current price/price high reached in historical 6m to 1m window\n",
    "def get_6m_highest_price_factor(assets, window = 6*21):\n",
    "    frames = []\n",
    "    for asset in assets:\n",
    "        data = yf.download(asset, period=backtest_period_year, interval='1d', progress=False)['Adj Close']\n",
    "        if data.count() < backtest_period:\n",
    "            continue\n",
    "        shifted_data = data.shift(21)\n",
    "        highest_price_factor = shifted_data / shifted_data.rolling(window).max()\n",
    "        frames.append(highest_price_factor.dropna().to_frame(asset))\n",
    "    return pd.concat(frames, axis=1)"
   ],
   "outputs": [],
   "execution_count": 8
  },
  {
   "cell_type": "markdown",
   "id": "55d939a5",
   "metadata": {},
   "source": [
    "### Enhanced Momentum Signals (Barclays Paper)"
   ]
  },
  {
   "cell_type": "code",
   "id": "582d67d8",
   "metadata": {
    "ExecuteTime": {
     "end_time": "2024-06-07T20:52:07.603951Z",
     "start_time": "2024-06-07T20:52:07.601260Z"
    }
   },
   "source": [
    "def get_BARC_momentum(df_macro_signal, df_consistency, df_confirmation, df_highest_price_factor):\n",
    "    df_macro_signal_ranks = df_macro_signal.rank(1, ascending=True, method='first')\n",
    "    df_consistency_ranks = df_consistency.rank(1, ascending=True, method='first')\n",
    "    df_confirmation_ranks = df_confirmation.rank(1, ascending=True, method='first')\n",
    "    df_highest_price_factor_ranks = df_highest_price_factor.rank(1, ascending=True, method='first')\n",
    "    persistency_signal = 1/3 * (df_consistency_ranks + df_confirmation_ranks + df_highest_price_factor_ranks)\n",
    "    BARC_momentum = 1/2 * (df_macro_signal_ranks + persistency_signal).dropna()\n",
    "    return BARC_momentum"
   ],
   "outputs": [],
   "execution_count": 9
  },
  {
   "cell_type": "markdown",
   "id": "1e24b56d",
   "metadata": {},
   "source": [
    "### Defining signals DF"
   ]
  },
  {
   "cell_type": "code",
   "id": "19af168d",
   "metadata": {
    "ExecuteTime": {
     "end_time": "2024-06-07T20:56:21.980885Z",
     "start_time": "2024-06-07T20:52:07.604765Z"
    }
   },
   "source": [
    "df_macro_signal = get_12m_momentum(tickers).dropna(axis=1)\n",
    "df_htp_P0 = get_12m_htp_momentum_P0(tickers).dropna(axis=1)\n",
    "df_consistency = get_6m_consistency(tickers).dropna(axis=1)\n",
    "df_confirmation = get_6m_confirmation(tickers).dropna(axis=1)\n",
    "df_highest_price_factor = get_6m_highest_price_factor(tickers).dropna(axis=1)"
   ],
   "outputs": [
    {
     "name": "stderr",
     "output_type": "stream",
     "text": [
      "\n",
      "1 Failed download:\n",
      "['BRK.B']: Exception('%ticker%: No data found, symbol may be delisted')\n",
      "\n",
      "1 Failed download:\n",
      "['BF.B']: Exception('%ticker%: No price data found, symbol may be delisted (period=2y)')\n",
      "\n",
      "1 Failed download:\n",
      "['BRK.B']: Exception('%ticker%: No data found, symbol may be delisted')\n",
      "\n",
      "1 Failed download:\n",
      "['BF.B']: Exception('%ticker%: No price data found, symbol may be delisted (period=2y)')\n",
      "\n",
      "1 Failed download:\n",
      "['BRK.B']: Exception('%ticker%: No data found, symbol may be delisted')\n",
      "\n",
      "1 Failed download:\n",
      "['BF.B']: Exception('%ticker%: No price data found, symbol may be delisted (period=2y)')\n",
      "\n",
      "1 Failed download:\n",
      "['BRK.B']: Exception('%ticker%: No data found, symbol may be delisted')\n",
      "\n",
      "1 Failed download:\n",
      "['BF.B']: Exception('%ticker%: No price data found, symbol may be delisted (period=2y)')\n",
      "\n",
      "1 Failed download:\n",
      "['BRK.B']: Exception('%ticker%: No data found, symbol may be delisted')\n",
      "\n",
      "1 Failed download:\n",
      "['BF.B']: Exception('%ticker%: No price data found, symbol may be delisted (period=2y)')\n"
     ]
    }
   ],
   "execution_count": 10
  },
  {
   "cell_type": "code",
   "id": "e2cc7eac",
   "metadata": {
    "ExecuteTime": {
     "end_time": "2024-06-07T20:56:22.054408Z",
     "start_time": "2024-06-07T20:56:21.981586Z"
    }
   },
   "source": [
    "# Enhanced Momentum coupled with HTP P0\n",
    "BARC_momentum = get_BARC_momentum(df_macro_signal, df_consistency, df_confirmation, df_highest_price_factor)\n",
    "BARC_momentum_P0 = 1/2 * (BARC_momentum + df_htp_P0.rank(1, ascending=True, method='first'))"
   ],
   "outputs": [],
   "execution_count": 11
  },
  {
   "cell_type": "markdown",
   "id": "db121ce5",
   "metadata": {},
   "source": [
    "### Convert signals DF into Winners and Losers"
   ]
  },
  {
   "cell_type": "code",
   "id": "c1b0d568",
   "metadata": {
    "ExecuteTime": {
     "end_time": "2024-06-07T20:56:22.058141Z",
     "start_time": "2024-06-07T20:56:22.055043Z"
    }
   },
   "source": [
    "def convert_to_winners_signals_df(signal_df, n_winners):\n",
    "    # Find the n largest values for each row (date)\n",
    "    signal_df_w = signal_df.apply(pd.Series.nlargest, axis=1, n=n_winners)\n",
    "\n",
    "    missing_columns = [col for col in signal_df.columns if col not in signal_df_w.columns]\n",
    "    nan_df = pd.DataFrame(np.nan, index=signal_df.index, columns=missing_columns)\n",
    "    signal_df_w = pd.concat([signal_df_w, nan_df], axis=1)\n",
    "    signal_df_w = signal_df_w[signal_df.columns]\n",
    "    signal_df_w_f = signal_df_w.notnull().astype(int)\n",
    "    signal_df_w_f_weighted = signal_df_w_f.multiply(1 / n_winners, axis=0)\n",
    "    \n",
    "    return signal_df_w_f_weighted    "
   ],
   "outputs": [],
   "execution_count": 12
  },
  {
   "cell_type": "code",
   "id": "9a7d0074",
   "metadata": {
    "ExecuteTime": {
     "end_time": "2024-06-07T20:56:22.139469Z",
     "start_time": "2024-06-07T20:56:22.058958Z"
    }
   },
   "source": [
    "signal_df_barc_P0 = convert_to_winners_signals_df(BARC_momentum_P0, NUMBER_PER_LEG)"
   ],
   "outputs": [],
   "execution_count": 13
  },
  {
   "cell_type": "markdown",
   "id": "9a9adff0",
   "metadata": {},
   "source": [
    "## Backtesting"
   ]
  },
  {
   "cell_type": "code",
   "id": "7d6534c8",
   "metadata": {
    "ExecuteTime": {
     "end_time": "2024-06-07T20:56:22.144623Z",
     "start_time": "2024-06-07T20:56:22.141885Z"
    }
   },
   "source": [
    "def convert_signal_to_portfolio(signal_df):\n",
    "    frames = []\n",
    "    for asset in signal_df.columns:\n",
    "        data = yf.download(asset, period=backtest_period_year, interval='1d', progress=False)['Adj Close']\n",
    "        frames.append(data.to_frame(asset))\n",
    "    price_df = pd.concat(frames, axis=1)\n",
    "    returns_df = np.log1p(price_df.pct_change()).dropna()\n",
    "    returns_df = (returns_df[returns_df.index.isin(signal_df.index)])[signal_df.columns]\n",
    "    \n",
    "    portfolio_df = (signal_df * returns_df).dropna()    \n",
    "    portfolio_df = pd.concat([portfolio_df, portfolio_df.sum(axis=1).rename('PORTFOLIO_RETURNS')], axis=1)\n",
    "    return portfolio_df"
   ],
   "outputs": [],
   "execution_count": 14
  },
  {
   "cell_type": "code",
   "id": "4d878b2a",
   "metadata": {
    "ExecuteTime": {
     "end_time": "2024-06-07T20:57:10.632394Z",
     "start_time": "2024-06-07T20:56:22.145310Z"
    }
   },
   "source": [
    "portfolio_df = convert_signal_to_portfolio(signal_df_barc_P0)"
   ],
   "outputs": [],
   "execution_count": 15
  },
  {
   "cell_type": "code",
   "id": "7a132a49",
   "metadata": {
    "ExecuteTime": {
     "end_time": "2024-06-07T20:57:10.635464Z",
     "start_time": "2024-06-07T20:57:10.633188Z"
    }
   },
   "source": [
    "def add_benchmark(df):\n",
    "    # Download historical data\n",
    "    spy_data = yf.download('SPY', period=backtest_period_year, interval='1d', progress=False)['Adj Close']\n",
    "    spy_data = np.log1p(spy_data.pct_change()).dropna()    \n",
    "    df['BENCHMARK'] = spy_data[spy_data.index.isin(df.index)]\n",
    "    return df"
   ],
   "outputs": [],
   "execution_count": 16
  },
  {
   "cell_type": "code",
   "id": "1e7804ef",
   "metadata": {
    "ExecuteTime": {
     "end_time": "2024-06-07T20:57:10.725510Z",
     "start_time": "2024-06-07T20:57:10.636077Z"
    }
   },
   "source": [
    "portfolio_df = add_benchmark(portfolio_df)"
   ],
   "outputs": [],
   "execution_count": 17
  },
  {
   "cell_type": "markdown",
   "id": "79ca2f74",
   "metadata": {},
   "source": [
    "### PLOT PERFORMANCE"
   ]
  },
  {
   "cell_type": "code",
   "id": "28f75fcf",
   "metadata": {
    "ExecuteTime": {
     "end_time": "2024-06-07T20:57:10.887329Z",
     "start_time": "2024-06-07T20:57:10.726108Z"
    }
   },
   "source": [
    "# Calculate cumulative returns\n",
    "cumulative_portfolio_returns = portfolio_df['PORTFOLIO_RETURNS'].cumsum()\n",
    "cumulative_spy_returns = portfolio_df['BENCHMARK'].cumsum()\n",
    "\n",
    "# Plot cumulative returns\n",
    "plt.figure(figsize=(10, 6))\n",
    "plt.plot(cumulative_portfolio_returns.index, cumulative_portfolio_returns, label='Portfolio Cumulative Returns', color='blue')\n",
    "plt.plot(cumulative_spy_returns.index, cumulative_spy_returns, label='S&P 500 Cumulative Returns', color='red')\n",
    "\n",
    "# Add labels and title\n",
    "plt.xlabel('Date')\n",
    "plt.ylabel('Cumulative Log Returns')\n",
    "plt.title('Cumulative Portfolio Returns vs. S&P 500 Returns (Log Returns)')\n",
    "plt.legend()\n",
    "\n",
    "# Show plot\n",
    "plt.show()"
   ],
   "outputs": [
    {
     "data": {
      "text/plain": [
       "<Figure size 1000x600 with 1 Axes>"
      ],
      "image/png": "[encoded data removed]"
     },
     "metadata": {},
     "output_type": "display_data"
    }
   ],
   "execution_count": 18
  },
  {
   "cell_type": "code",
   "id": "58737de6",
   "metadata": {
    "ExecuteTime": {
     "end_time": "2024-06-07T20:57:10.889491Z",
     "start_time": "2024-06-07T20:57:10.888133Z"
    }
   },
   "source": [],
   "outputs": [],
   "execution_count": 18
  }
 ],
 "metadata": {
  "kernelspec": {
   "display_name": "Python 3 (ipykernel)",
   "language": "python",
   "name": "python3"
  },
  "language_info": {
   "codemirror_mode": {
    "name": "ipython",
    "version": 3
   },
   "file_extension": ".py",
   "mimetype": "text/x-python",
   "name": "python",
   "nbconvert_exporter": "python",
   "pygments_lexer": "ipython3",
   "version": "3.11.5"
  }
 },
 "nbformat": 4,
 "nbformat_minor": 5
}
